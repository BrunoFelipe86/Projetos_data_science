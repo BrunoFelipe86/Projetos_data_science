{
 "cells": [
  {
   "cell_type": "markdown",
   "metadata": {},
   "source": [
    "## Exercícios de Revisão em python\n",
    "\n",
    "Exércicios de compreensão sobre as funcionalidades do Python. "
   ]
  },
  {
   "cell_type": "markdown",
   "metadata": {},
   "source": [
    "### Exercícios\n",
    "Responda as perguntas ou complete as tarefas em negrito abaixo, use o método específico, se aplicavel. "
   ]
  },
  {
   "cell_type": "markdown",
   "metadata": {},
   "source": [
    "#### -- Resolva: 7 elevado a 4 potência"
   ]
  },
  {
   "cell_type": "code",
   "execution_count": 2,
   "metadata": {},
   "outputs": [
    {
     "name": "stdout",
     "output_type": "stream",
     "text": [
      "7 elevado a 4 potência =  2401\n"
     ]
    }
   ],
   "source": [
    "a = 7**4\n",
    "print(\"7 elevado a 4 potência = \", a)"
   ]
  },
  {
   "cell_type": "markdown",
   "metadata": {},
   "source": [
    "#### -- Quebre a seguinte string em uma lista"
   ]
  },
  {
   "cell_type": "markdown",
   "metadata": {},
   "source": [
    "s = \"Olá, pai!\""
   ]
  },
  {
   "cell_type": "code",
   "execution_count": 3,
   "metadata": {},
   "outputs": [
    {
     "name": "stdout",
     "output_type": "stream",
     "text": [
      "['Olá', ' pai!']\n"
     ]
    }
   ],
   "source": [
    "s = \"Olá, pai!\"\n",
    "a = s.split(',')\n",
    "print (a)"
   ]
  },
  {
   "cell_type": "markdown",
   "metadata": {},
   "source": [
    "## -- Dadas as variáveis: \n",
    "\n",
    "planeta = \"Terra\"\n",
    "\n",
    "Diametro = 12742\n",
    "\n",
    "#### -- Use .format() para printar a seguinte frase: \n",
    "\n",
    "O diâmetro da Terra é de 12742 kilômetros. "
   ]
  },
  {
   "cell_type": "code",
   "execution_count": 5,
   "metadata": {},
   "outputs": [
    {
     "name": "stdout",
     "output_type": "stream",
     "text": [
      "O diâmetro da Terra é de 12742 de quilometros\n"
     ]
    }
   ],
   "source": [
    "planeta = \"Terra\"\n",
    "diametro = 12742\n",
    "\n",
    "print(f'O diâmetro da {planeta} é de {diametro} de quilometros')"
   ]
  },
  {
   "cell_type": "code",
   "execution_count": 9,
   "metadata": {},
   "outputs": [
    {
     "name": "stdout",
     "output_type": "stream",
     "text": [
      "O diâmetro da Terra é de 12742 de quilometros\n"
     ]
    }
   ],
   "source": [
    "print('O diâmetro da {} é de {} de quilometros'.format(planeta, diametro))"
   ]
  },
  {
   "cell_type": "markdown",
   "metadata": {},
   "source": [
    "## -- Dada a lista abaixo,use indexação para obter apenas a string \"Olá\"."
   ]
  },
  {
   "cell_type": "code",
   "execution_count": 10,
   "metadata": {},
   "outputs": [],
   "source": [
    "lst = [1,2,[3,4],[5,[100,200,['olá']],23,11],1, 7]"
   ]
  },
  {
   "cell_type": "code",
   "execution_count": 26,
   "metadata": {},
   "outputs": [
    {
     "name": "stdout",
     "output_type": "stream",
     "text": [
      "['olá']\n"
     ]
    }
   ],
   "source": [
    "print(lst[3][1][2])"
   ]
  },
  {
   "cell_type": "markdown",
   "metadata": {},
   "source": [
    "## -- Dado o seguinte dicionário aninhado, extraia a palavra \"olá\""
   ]
  },
  {
   "cell_type": "code",
   "execution_count": 12,
   "metadata": {},
   "outputs": [],
   "source": [
    "d = {'k1':[1, 2, 3, {'café':['banana','mulher','colher',{'alvo':[1,2,3,'olá']}]}]}"
   ]
  },
  {
   "cell_type": "code",
   "execution_count": 11,
   "metadata": {},
   "outputs": [
    {
     "name": "stdout",
     "output_type": "stream",
     "text": [
      "dict_items([('k1', [1, 2, 3, {'café': ['banana', 'mulher', 'colher', {'alvo': [1, 2, 3, 'olá']}]}])])\n"
     ]
    }
   ],
   "source": [
    "print(d.items())"
   ]
  },
  {
   "cell_type": "markdown",
   "metadata": {},
   "source": [
    "## -- Construa uma função que retire o dominio dado um e-mail no seguinte formato: \n",
    "\n",
    "##### Exemplo:\n",
    "##### user@domain.com\n",
    "##### Retorna:\n",
    "##### domain.com"
   ]
  },
  {
   "cell_type": "code",
   "execution_count": 16,
   "metadata": {},
   "outputs": [],
   "source": [
    "def retornaDominio(mail):\n",
    "    if '@' in mail:\n",
    "        a = 1 + mail.index('@')\n",
    "        print(mail[a:])"
   ]
  },
  {
   "cell_type": "code",
   "execution_count": 23,
   "metadata": {},
   "outputs": [],
   "source": [
    "mail = 'user@domain.com'"
   ]
  },
  {
   "cell_type": "code",
   "execution_count": 24,
   "metadata": {},
   "outputs": [
    {
     "name": "stdout",
     "output_type": "stream",
     "text": [
      "domain.com\n"
     ]
    }
   ],
   "source": [
    "retornaDominio(mail)"
   ]
  },
  {
   "cell_type": "markdown",
   "metadata": {},
   "source": [
    "## -- Crie uma função que retorna True se a palavra 'dog' estiver contida na string de entrada. Não se preocupe  com os casos de extremosomo uma pontuação que está sendo anexada à palavra 'dog', mas que seja case sensitive"
   ]
  },
  {
   "cell_type": "code",
   "execution_count": 37,
   "metadata": {},
   "outputs": [],
   "source": [
    "def encontraDog(parametro):\n",
    "    parametro = parametro.lower()\n",
    "    if 'dog' in parametro:\n",
    "        return True\n",
    "    else:\n",
    "        return False\n",
    "    "
   ]
  },
  {
   "cell_type": "code",
   "execution_count": 38,
   "metadata": {},
   "outputs": [],
   "source": [
    "parametro = 'Existe um dog ai ?'\n",
    "parametro_2 = 'EXISTE UM DOG AI ?'"
   ]
  },
  {
   "cell_type": "code",
   "execution_count": 39,
   "metadata": {},
   "outputs": [
    {
     "data": {
      "text/plain": [
       "True"
      ]
     },
     "execution_count": 39,
     "metadata": {},
     "output_type": "execute_result"
    }
   ],
   "source": [
    "encontraDog(parametro)"
   ]
  },
  {
   "cell_type": "code",
   "execution_count": 40,
   "metadata": {},
   "outputs": [
    {
     "data": {
      "text/plain": [
       "True"
      ]
     },
     "execution_count": 40,
     "metadata": {},
     "output_type": "execute_result"
    }
   ],
   "source": [
    "encontraDog(parametro_2)"
   ]
  },
  {
   "cell_type": "markdown",
   "metadata": {},
   "source": [
    "## -- Use expressões lambda e a função filter() para filtrar as palavras de uma lista que não começa com a letra \"S\". Por Exemplo\n",
    "##### seq = ['sopa','cachorro','salada','gato','ótimo']\n",
    "##### Deve ser filtrada para:\n",
    "##### seq = ['sopa','salada']"
   ]
  },
  {
   "cell_type": "code",
   "execution_count": 41,
   "metadata": {},
   "outputs": [],
   "source": [
    "seq = ['sopa','cachorro','salada','gato','ótimo']"
   ]
  },
  {
   "cell_type": "code",
   "execution_count": 45,
   "metadata": {},
   "outputs": [
    {
     "data": {
      "text/plain": [
       "['sopa', 'salada']"
      ]
     },
     "execution_count": 45,
     "metadata": {},
     "output_type": "execute_result"
    }
   ],
   "source": [
    "list(filter(lambda item: item[0] == 's', seq))"
   ]
  },
  {
   "cell_type": "markdown",
   "metadata": {},
   "source": [
    "#### -- Você está dirigindo um pouco rápido demais, e um policial para você. Escreva uma função para retornar um dos 3 resultado possiveis: \"Sem multa\", \"Multa Pequena\" ou \"Multa Grande\". Se a sua velocidade for igual ou inferior a 60, o resultado é \"sem multa\". Se a velocidade for entre 61 e 80, o resultado é \"Multa pequena\". Se a velocidadae é e 81 ou mais, o resultado é \"Multa Grande\". A menos que seja seu aniversário. Em seu aniversário, sua velocidade poser ser 5 unidades maior em todos os casos. "
   ]
  },
  {
   "cell_type": "code",
   "execution_count": 47,
   "metadata": {},
   "outputs": [],
   "source": [
    "from datetime import date\n",
    "def capturar_velocidade(velocidade, aniversario):\n",
    "    hoje = date.today()\n",
    "    dia = hoje.day\n",
    "    mes = hoje.month\n",
    "    dia_A = aniversario[0:1]\n",
    "    mes_A = aniversario [3:4]\n",
    "    \n",
    "    if (dia_A == dia) and (mes_A == mes):\n",
    "        if velocidade >= 85:\n",
    "            print(\"Multa Alta\")\n",
    "        elif velocidade < 85  or  velocidade > 65:\n",
    "            print (\"Multa pequena\")\n",
    "        else:\n",
    "            print(\"Sem Multa\")\n",
    "            \n",
    "    else:\n",
    "        if velocidade >= 80:\n",
    "            print(\"Multa Alta\")\n",
    "        elif velocidade < 80  or  velocidade > 60:\n",
    "            print (\"Multa pequena\")\n",
    "        else:\n",
    "            print(\"Sem Multa\")\n",
    "        \n",
    "    "
   ]
  },
  {
   "cell_type": "code",
   "execution_count": 48,
   "metadata": {},
   "outputs": [
    {
     "name": "stdout",
     "output_type": "stream",
     "text": [
      "Multa pequena\n"
     ]
    }
   ],
   "source": [
    "capturar_velocidade(65, '14/08/1986')"
   ]
  },
  {
   "cell_type": "code",
   "execution_count": 49,
   "metadata": {},
   "outputs": [
    {
     "name": "stdout",
     "output_type": "stream",
     "text": [
      "Multa Alta\n"
     ]
    }
   ],
   "source": [
    "capturar_velocidade(81,'14/08/1986')"
   ]
  },
  {
   "cell_type": "code",
   "execution_count": null,
   "metadata": {},
   "outputs": [],
   "source": []
  }
 ],
 "metadata": {
  "kernelspec": {
   "display_name": "Python 3",
   "language": "python",
   "name": "python3"
  },
  "language_info": {
   "codemirror_mode": {
    "name": "ipython",
    "version": 3
   },
   "file_extension": ".py",
   "mimetype": "text/x-python",
   "name": "python",
   "nbconvert_exporter": "python",
   "pygments_lexer": "ipython3",
   "version": "3.8.5"
  }
 },
 "nbformat": 4,
 "nbformat_minor": 4
}
