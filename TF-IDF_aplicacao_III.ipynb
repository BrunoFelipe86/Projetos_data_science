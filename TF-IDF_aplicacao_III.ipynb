{
 "cells": [
  {
   "cell_type": "code",
   "execution_count": 1,
   "metadata": {},
   "outputs": [],
   "source": [
    "import pandas as pd\n",
    "import matplotlib.pyplot as plt\n",
    "from sklearn.feature_extraction.text import CountVectorizer\n",
    "from sklearn.feature_extraction.text import TfidfVectorizer\n",
    "import re\n",
    "%matplotlib inline"
   ]
  },
  {
   "cell_type": "code",
   "execution_count": 2,
   "metadata": {},
   "outputs": [],
   "source": [
    "documento = ['Sachin is considered to be one of the greatest cricket players',\n",
    "             'Federer is considered to be one of the greatest tennis players',\n",
    "             'Pele is considered to be one of the greatest football players',\n",
    "             'Jordan is considered to be one of the greatest basketball players']"
   ]
  },
  {
   "cell_type": "markdown",
   "metadata": {},
   "source": [
    "###### No caso do TFIDF, o único pré-processamento de texto é remover a pontuação e diminuir as letras maiúsculas e minúsculas. Nós não temos que nos preocupar com as StopWords. O TFIDF é a junção do TF e IDF"
   ]
  },
  {
   "cell_type": "markdown",
   "metadata": {},
   "source": [
    "TF = número de vezes que o termo aparece no documento / número total de palavras no documento\n",
    "IDF = ln (número de documentos / número de documentos em que o termo aparece)\n",
    "Quanto maior a pontuação do TFIDF, mais raro é o termo e vice-versa.\n",
    "O TFIDF é usado com sucesso pelos mecanismos de pesquisa, como o Google, como um fator de classificação para o conteúdo."
   ]
  },
  {
   "cell_type": "code",
   "execution_count": 4,
   "metadata": {},
   "outputs": [
    {
     "name": "stdout",
     "output_type": "stream",
     "text": [
      "{'sachin': 13, 'is': 7, 'considered': 2, 'to': 16, 'be': 1, 'one': 10, 'of': 9, 'the': 15, 'greatest': 6, 'cricket': 3, 'players': 12, 'federer': 4, 'tennis': 14, 'pele': 11, 'football': 5, 'jordan': 8, 'basketball': 0}\n",
      "['basketball', 'be', 'considered', 'cricket', 'federer', 'football', 'greatest', 'is', 'jordan', 'of', 'one', 'pele', 'players', 'sachin', 'tennis', 'the', 'to']\n"
     ]
    }
   ],
   "source": [
    "vect = CountVectorizer()\n",
    "\n",
    "X = vect.fit(documento)\n",
    "print(X.vocabulary_)\n",
    "print(vect.get_feature_names())"
   ]
  },
  {
   "cell_type": "code",
   "execution_count": 5,
   "metadata": {},
   "outputs": [
    {
     "name": "stdout",
     "output_type": "stream",
     "text": [
      "['basketball', 'be', 'considered', 'cricket', 'federer', 'football', 'greatest', 'is', 'jordan', 'of', 'one', 'pele', 'players', 'sachin', 'tennis', 'the', 'to']\n"
     ]
    },
    {
     "data": {
      "text/plain": [
       "array([[0, 1, 1, 1, 0, 0, 1, 1, 0, 1, 1, 0, 1, 1, 0, 1, 1],\n",
       "       [0, 1, 1, 0, 1, 0, 1, 1, 0, 1, 1, 0, 1, 0, 1, 1, 1],\n",
       "       [0, 1, 1, 0, 0, 1, 1, 1, 0, 1, 1, 1, 1, 0, 0, 1, 1],\n",
       "       [1, 1, 1, 0, 0, 0, 1, 1, 1, 1, 1, 0, 1, 0, 0, 1, 1]], dtype=int64)"
      ]
     },
     "execution_count": 5,
     "metadata": {},
     "output_type": "execute_result"
    }
   ],
   "source": [
    "documento_transformed = vect.transform(documento)\n",
    "print(vect.get_feature_names())\n",
    "documento_transformed.toarray()"
   ]
  },
  {
   "cell_type": "code",
   "execution_count": 6,
   "metadata": {},
   "outputs": [
    {
     "name": "stdout",
     "output_type": "stream",
     "text": [
      "['Sachin is considered to be one of the greatest cricket players', 'Federer is considered to be one of the greatest tennis players', 'Pele is considered to be one of the greatest football players', 'Jordan is considered to be one of the greatest basketball players']\n"
     ]
    },
    {
     "data": {
      "text/html": [
       "<div>\n",
       "<style scoped>\n",
       "    .dataframe tbody tr th:only-of-type {\n",
       "        vertical-align: middle;\n",
       "    }\n",
       "\n",
       "    .dataframe tbody tr th {\n",
       "        vertical-align: top;\n",
       "    }\n",
       "\n",
       "    .dataframe thead th {\n",
       "        text-align: right;\n",
       "    }\n",
       "</style>\n",
       "<table border=\"1\" class=\"dataframe\">\n",
       "  <thead>\n",
       "    <tr style=\"text-align: right;\">\n",
       "      <th></th>\n",
       "      <th>basketball</th>\n",
       "      <th>be</th>\n",
       "      <th>considered</th>\n",
       "      <th>cricket</th>\n",
       "      <th>federer</th>\n",
       "      <th>football</th>\n",
       "      <th>greatest</th>\n",
       "      <th>is</th>\n",
       "      <th>jordan</th>\n",
       "      <th>of</th>\n",
       "      <th>one</th>\n",
       "      <th>pele</th>\n",
       "      <th>players</th>\n",
       "      <th>sachin</th>\n",
       "      <th>tennis</th>\n",
       "      <th>the</th>\n",
       "      <th>to</th>\n",
       "    </tr>\n",
       "  </thead>\n",
       "  <tbody>\n",
       "    <tr>\n",
       "      <th>0</th>\n",
       "      <td>0</td>\n",
       "      <td>1</td>\n",
       "      <td>1</td>\n",
       "      <td>1</td>\n",
       "      <td>0</td>\n",
       "      <td>0</td>\n",
       "      <td>1</td>\n",
       "      <td>1</td>\n",
       "      <td>0</td>\n",
       "      <td>1</td>\n",
       "      <td>1</td>\n",
       "      <td>0</td>\n",
       "      <td>1</td>\n",
       "      <td>1</td>\n",
       "      <td>0</td>\n",
       "      <td>1</td>\n",
       "      <td>1</td>\n",
       "    </tr>\n",
       "    <tr>\n",
       "      <th>1</th>\n",
       "      <td>0</td>\n",
       "      <td>1</td>\n",
       "      <td>1</td>\n",
       "      <td>0</td>\n",
       "      <td>1</td>\n",
       "      <td>0</td>\n",
       "      <td>1</td>\n",
       "      <td>1</td>\n",
       "      <td>0</td>\n",
       "      <td>1</td>\n",
       "      <td>1</td>\n",
       "      <td>0</td>\n",
       "      <td>1</td>\n",
       "      <td>0</td>\n",
       "      <td>1</td>\n",
       "      <td>1</td>\n",
       "      <td>1</td>\n",
       "    </tr>\n",
       "    <tr>\n",
       "      <th>2</th>\n",
       "      <td>0</td>\n",
       "      <td>1</td>\n",
       "      <td>1</td>\n",
       "      <td>0</td>\n",
       "      <td>0</td>\n",
       "      <td>1</td>\n",
       "      <td>1</td>\n",
       "      <td>1</td>\n",
       "      <td>0</td>\n",
       "      <td>1</td>\n",
       "      <td>1</td>\n",
       "      <td>1</td>\n",
       "      <td>1</td>\n",
       "      <td>0</td>\n",
       "      <td>0</td>\n",
       "      <td>1</td>\n",
       "      <td>1</td>\n",
       "    </tr>\n",
       "    <tr>\n",
       "      <th>3</th>\n",
       "      <td>1</td>\n",
       "      <td>1</td>\n",
       "      <td>1</td>\n",
       "      <td>0</td>\n",
       "      <td>0</td>\n",
       "      <td>0</td>\n",
       "      <td>1</td>\n",
       "      <td>1</td>\n",
       "      <td>1</td>\n",
       "      <td>1</td>\n",
       "      <td>1</td>\n",
       "      <td>0</td>\n",
       "      <td>1</td>\n",
       "      <td>0</td>\n",
       "      <td>0</td>\n",
       "      <td>1</td>\n",
       "      <td>1</td>\n",
       "    </tr>\n",
       "  </tbody>\n",
       "</table>\n",
       "</div>"
      ],
      "text/plain": [
       "   basketball  be  considered  cricket  federer  football  greatest  is  \\\n",
       "0           0   1           1        1        0         0         1   1   \n",
       "1           0   1           1        0        1         0         1   1   \n",
       "2           0   1           1        0        0         1         1   1   \n",
       "3           1   1           1        0        0         0         1   1   \n",
       "\n",
       "   jordan  of  one  pele  players  sachin  tennis  the  to  \n",
       "0       0   1    1     0        1       1       0    1   1  \n",
       "1       0   1    1     0        1       0       1    1   1  \n",
       "2       0   1    1     1        1       0       0    1   1  \n",
       "3       1   1    1     0        1       0       0    1   1  "
      ]
     },
     "execution_count": 6,
     "metadata": {},
     "output_type": "execute_result"
    }
   ],
   "source": [
    "data = pd.DataFrame(documento_transformed.toarray())\n",
    "data.columns = vect.get_feature_names()\n",
    "print(documento)\n",
    "data.head(4)"
   ]
  },
  {
   "cell_type": "code",
   "execution_count": 12,
   "metadata": {},
   "outputs": [],
   "source": [
    "tfvect = TfidfVectorizer()\n",
    "trans = tfvect.fit_transform(documento)\n",
    "a = pd.DataFrame(trans.toarray(), columns = tfvect.get_feature_names())"
   ]
  },
  {
   "cell_type": "code",
   "execution_count": 13,
   "metadata": {},
   "outputs": [
    {
     "data": {
      "text/html": [
       "<div>\n",
       "<style scoped>\n",
       "    .dataframe tbody tr th:only-of-type {\n",
       "        vertical-align: middle;\n",
       "    }\n",
       "\n",
       "    .dataframe tbody tr th {\n",
       "        vertical-align: top;\n",
       "    }\n",
       "\n",
       "    .dataframe thead th {\n",
       "        text-align: right;\n",
       "    }\n",
       "</style>\n",
       "<table border=\"1\" class=\"dataframe\">\n",
       "  <thead>\n",
       "    <tr style=\"text-align: right;\">\n",
       "      <th></th>\n",
       "      <th>basketball</th>\n",
       "      <th>be</th>\n",
       "      <th>considered</th>\n",
       "      <th>cricket</th>\n",
       "      <th>federer</th>\n",
       "      <th>football</th>\n",
       "      <th>greatest</th>\n",
       "      <th>is</th>\n",
       "      <th>jordan</th>\n",
       "      <th>of</th>\n",
       "      <th>one</th>\n",
       "      <th>pele</th>\n",
       "      <th>players</th>\n",
       "      <th>sachin</th>\n",
       "      <th>tennis</th>\n",
       "      <th>the</th>\n",
       "      <th>to</th>\n",
       "    </tr>\n",
       "  </thead>\n",
       "  <tbody>\n",
       "    <tr>\n",
       "      <th>0</th>\n",
       "      <td>0.000000</td>\n",
       "      <td>0.247352</td>\n",
       "      <td>0.247352</td>\n",
       "      <td>0.473999</td>\n",
       "      <td>0.000000</td>\n",
       "      <td>0.000000</td>\n",
       "      <td>0.247352</td>\n",
       "      <td>0.247352</td>\n",
       "      <td>0.000000</td>\n",
       "      <td>0.247352</td>\n",
       "      <td>0.247352</td>\n",
       "      <td>0.000000</td>\n",
       "      <td>0.247352</td>\n",
       "      <td>0.473999</td>\n",
       "      <td>0.000000</td>\n",
       "      <td>0.247352</td>\n",
       "      <td>0.247352</td>\n",
       "    </tr>\n",
       "    <tr>\n",
       "      <th>1</th>\n",
       "      <td>0.000000</td>\n",
       "      <td>0.247352</td>\n",
       "      <td>0.247352</td>\n",
       "      <td>0.000000</td>\n",
       "      <td>0.473999</td>\n",
       "      <td>0.000000</td>\n",
       "      <td>0.247352</td>\n",
       "      <td>0.247352</td>\n",
       "      <td>0.000000</td>\n",
       "      <td>0.247352</td>\n",
       "      <td>0.247352</td>\n",
       "      <td>0.000000</td>\n",
       "      <td>0.247352</td>\n",
       "      <td>0.000000</td>\n",
       "      <td>0.473999</td>\n",
       "      <td>0.247352</td>\n",
       "      <td>0.247352</td>\n",
       "    </tr>\n",
       "    <tr>\n",
       "      <th>2</th>\n",
       "      <td>0.000000</td>\n",
       "      <td>0.247352</td>\n",
       "      <td>0.247352</td>\n",
       "      <td>0.000000</td>\n",
       "      <td>0.000000</td>\n",
       "      <td>0.473999</td>\n",
       "      <td>0.247352</td>\n",
       "      <td>0.247352</td>\n",
       "      <td>0.000000</td>\n",
       "      <td>0.247352</td>\n",
       "      <td>0.247352</td>\n",
       "      <td>0.473999</td>\n",
       "      <td>0.247352</td>\n",
       "      <td>0.000000</td>\n",
       "      <td>0.000000</td>\n",
       "      <td>0.247352</td>\n",
       "      <td>0.247352</td>\n",
       "    </tr>\n",
       "    <tr>\n",
       "      <th>3</th>\n",
       "      <td>0.473999</td>\n",
       "      <td>0.247352</td>\n",
       "      <td>0.247352</td>\n",
       "      <td>0.000000</td>\n",
       "      <td>0.000000</td>\n",
       "      <td>0.000000</td>\n",
       "      <td>0.247352</td>\n",
       "      <td>0.247352</td>\n",
       "      <td>0.473999</td>\n",
       "      <td>0.247352</td>\n",
       "      <td>0.247352</td>\n",
       "      <td>0.000000</td>\n",
       "      <td>0.247352</td>\n",
       "      <td>0.000000</td>\n",
       "      <td>0.000000</td>\n",
       "      <td>0.247352</td>\n",
       "      <td>0.247352</td>\n",
       "    </tr>\n",
       "  </tbody>\n",
       "</table>\n",
       "</div>"
      ],
      "text/plain": [
       "   basketball        be  considered   cricket   federer  football  greatest  \\\n",
       "0    0.000000  0.247352    0.247352  0.473999  0.000000  0.000000  0.247352   \n",
       "1    0.000000  0.247352    0.247352  0.000000  0.473999  0.000000  0.247352   \n",
       "2    0.000000  0.247352    0.247352  0.000000  0.000000  0.473999  0.247352   \n",
       "3    0.473999  0.247352    0.247352  0.000000  0.000000  0.000000  0.247352   \n",
       "\n",
       "         is    jordan        of       one      pele   players    sachin  \\\n",
       "0  0.247352  0.000000  0.247352  0.247352  0.000000  0.247352  0.473999   \n",
       "1  0.247352  0.000000  0.247352  0.247352  0.000000  0.247352  0.000000   \n",
       "2  0.247352  0.000000  0.247352  0.247352  0.473999  0.247352  0.000000   \n",
       "3  0.247352  0.473999  0.247352  0.247352  0.000000  0.247352  0.000000   \n",
       "\n",
       "     tennis       the        to  \n",
       "0  0.000000  0.247352  0.247352  \n",
       "1  0.473999  0.247352  0.247352  \n",
       "2  0.000000  0.247352  0.247352  \n",
       "3  0.000000  0.247352  0.247352  "
      ]
     },
     "execution_count": 13,
     "metadata": {},
     "output_type": "execute_result"
    }
   ],
   "source": [
    "a"
   ]
  },
  {
   "cell_type": "code",
   "execution_count": 11,
   "metadata": {},
   "outputs": [],
   "source": [
    "import seaborn as sns"
   ]
  },
  {
   "cell_type": "code",
   "execution_count": 20,
   "metadata": {},
   "outputs": [
    {
     "data": {
      "text/plain": [
       "Index(['basketball', 'be', 'considered', 'cricket', 'federer', 'football',\n",
       "       'greatest', 'is', 'jordan', 'of', 'one', 'pele', 'players', 'sachin',\n",
       "       'tennis', 'the', 'to'],\n",
       "      dtype='object')"
      ]
     },
     "execution_count": 20,
     "metadata": {},
     "output_type": "execute_result"
    }
   ],
   "source": [
    "a.columns"
   ]
  },
  {
   "cell_type": "code",
   "execution_count": 26,
   "metadata": {},
   "outputs": [
    {
     "name": "stdout",
     "output_type": "stream",
     "text": [
      "<class 'pandas.core.frame.DataFrame'>\n",
      "RangeIndex: 4 entries, 0 to 3\n",
      "Data columns (total 17 columns):\n",
      " #   Column      Non-Null Count  Dtype  \n",
      "---  ------      --------------  -----  \n",
      " 0   basketball  4 non-null      float64\n",
      " 1   be          4 non-null      float64\n",
      " 2   considered  4 non-null      float64\n",
      " 3   cricket     4 non-null      float64\n",
      " 4   federer     4 non-null      float64\n",
      " 5   football    4 non-null      float64\n",
      " 6   greatest    4 non-null      float64\n",
      " 7   is          4 non-null      float64\n",
      " 8   jordan      4 non-null      float64\n",
      " 9   of          4 non-null      float64\n",
      " 10  one         4 non-null      float64\n",
      " 11  pele        4 non-null      float64\n",
      " 12  players     4 non-null      float64\n",
      " 13  sachin      4 non-null      float64\n",
      " 14  tennis      4 non-null      float64\n",
      " 15  the         4 non-null      float64\n",
      " 16  to          4 non-null      float64\n",
      "dtypes: float64(17)\n",
      "memory usage: 672.0 bytes\n"
     ]
    }
   ],
   "source": [
    "a.info()"
   ]
  },
  {
   "cell_type": "code",
   "execution_count": 21,
   "metadata": {},
   "outputs": [],
   "source": [
    "lista = ['basketball', 'be', 'considered', 'cricket', 'federer', 'football',\n",
    "       'greatest', 'is', 'jordan', 'of', 'one', 'pele', 'players', 'sachin',\n",
    "       'tennis', 'the', 'to']"
   ]
  },
  {
   "cell_type": "code",
   "execution_count": 22,
   "metadata": {},
   "outputs": [
    {
     "data": {
      "text/plain": [
       "[(0, 'basketball'),\n",
       " (1, 'be'),\n",
       " (2, 'considered'),\n",
       " (3, 'cricket'),\n",
       " (4, 'federer'),\n",
       " (5, 'football'),\n",
       " (6, 'greatest'),\n",
       " (7, 'is'),\n",
       " (8, 'jordan'),\n",
       " (9, 'of'),\n",
       " (10, 'one'),\n",
       " (11, 'pele'),\n",
       " (12, 'players'),\n",
       " (13, 'sachin'),\n",
       " (14, 'tennis'),\n",
       " (15, 'the'),\n",
       " (16, 'to')]"
      ]
     },
     "execution_count": 22,
     "metadata": {},
     "output_type": "execute_result"
    }
   ],
   "source": [
    "list(enumerate(lista))"
   ]
  },
  {
   "cell_type": "code",
   "execution_count": 24,
   "metadata": {},
   "outputs": [
    {
     "data": {
      "image/png": "[encoded data removed]",
      "text/plain": [
       "<Figure size 1080x2160 with 17 Axes>"
      ]
     },
     "metadata": {
      "needs_background": "light"
     },
     "output_type": "display_data"
    }
   ],
   "source": [
    "plt.figure(figsize =(15,30))\n",
    "for i in enumerate(lista):\n",
    "    plt.subplot(6, 3, i[0]+1)\n",
    "    sns.countplot(x = i[1], data = a)"
   ]
  },
  {
   "cell_type": "code",
   "execution_count": null,
   "metadata": {},
   "outputs": [],
   "source": [
    "\n"
   ]
  },
  {
   "cell_type": "code",
   "execution_count": null,
   "metadata": {},
   "outputs": [],
   "source": []
  }
 ],
 "metadata": {
  "kernelspec": {
   "display_name": "Python 3",
   "language": "python",
   "name": "python3"
  },
  "language_info": {
   "codemirror_mode": {
    "name": "ipython",
    "version": 3
   },
   "file_extension": ".py",
   "mimetype": "text/x-python",
   "name": "python",
   "nbconvert_exporter": "python",
   "pygments_lexer": "ipython3",
   "version": "3.8.5"
  }
 },
 "nbformat": 4,
 "nbformat_minor": 4
}
